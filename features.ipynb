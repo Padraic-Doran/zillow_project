{
 "cells": [
  {
   "cell_type": "code",
   "execution_count": 13,
   "metadata": {},
   "outputs": [],
   "source": [
    "import pandas as pd\n",
    "import numpy as np\n",
    "import matplotlib.pyplot as plt\n",
    "import seaborn as sns\n",
    "from sklearn.model_selection import train_test_split\n",
    "from sklearn.preprocessing import StandardScaler, MinMaxScaler\n",
    "import warnings\n",
    "warnings.filterwarnings(\"ignore\")\n",
    "\n",
    "import env\n",
    "import wrangle as w\n",
    "import split_scale as ss\n",
    "\n",
    "\n",
    "df = w.wrangle_telco()\n",
    "\n",
    "train, test  = ss.split_my_data(df, train_pct = .8, random_seed = 123)\n",
    "\n",
    "X_train = train.drop(columns = 'total_charges')\n",
    "\n",
    "X_test = test.drop(columns = \"total_charges\")\n",
    "\n",
    "y_train = train[[\"total_charges\"]]\n",
    "\n",
    "y_test = test[[\"total_charges\"]]\n"
   ]
  },
  {
   "cell_type": "code",
   "execution_count": 14,
   "metadata": {},
   "outputs": [
    {
     "data": {
      "image/png": "[encoded data removed]",
      "text/plain": [
       "<Figure size 432x360 with 2 Axes>"
      ]
     },
     "metadata": {},
     "output_type": "display_data"
    }
   ],
   "source": [
    "# Using Pearson Correlation\n",
    "\n",
    "sns.set_style('whitegrid')\n",
    "plt.figure(figsize=(6,5))\n",
    "cor = train.corr()\n",
    "sns.heatmap(cor, annot = True, cmap=plt.cm.Reds)\n",
    "\n",
    "# To view just the correlations of each attribute with the target variable, and filter down to only those above a certain value:\n",
    "# Correlation with output variable\n",
    "cor_target = abs(cor[\"total_charges\"])\n",
    "\n",
    "#Selecting highly correlated features\n",
    "relevant_features = cor_target[cor_target>0.5]"
   ]
  },
  {
   "cell_type": "code",
   "execution_count": 2,
   "metadata": {},
   "outputs": [],
   "source": [
    "# Write a function, select_kbest_not_scaled() that takes X_train, y_train and k as input\n",
    "# (X_train and y_train should not be scaled!) and returns a list of the top k features."
   ]
  },
  {
   "cell_type": "code",
   "execution_count": 9,
   "metadata": {},
   "outputs": [],
   "source": [
    "from sklearn.feature_selection import SelectKBest, f_regression\n",
    "\n",
    "def select_kbest_freg_unscaled(X_train, y_train, k):\n",
    "    freg_selector = SelectKBest(f_regression, k)\n",
    "    freg_selector.fit(X, y)\n",
    "    freg_support = freg_selector.get_support()\n",
    "    freg_feature = X.loc[:,freg_support].columns.tolist()\n",
    "    return freg_feature"
   ]
  },
  {
   "cell_type": "code",
   "execution_count": null,
   "metadata": {},
   "outputs": [],
   "source": [
    "# Write a function, select_kbest_freg() that takes X_train, y_train (scaled) and k as input \n",
    "# and returns a list of the top k features."
   ]
  },
  {
   "cell_type": "code",
   "execution_count": null,
   "metadata": {},
   "outputs": [],
   "source": [
    "def select_kbest_freg_scaled(X_train, y_train, k):\n",
    "    X_scaler, X_train_scaled_data, X_test_scaled_data = split_scale.standard_scaler(X_train)\n",
    "    y_scaler, y_train_scaled_data, y_test_scaled_data = split_scale.standard_scaler(y_train)\n",
    "\n",
    "    f_selector = SelectKBest(f_regression,k=k)\n",
    "    f_selector.fit(X_train_scaled_data, y_train_scaled_data)\n",
    "\n",
    "    f_support = f_selector.get_support()\n",
    "    f_feature = X_train_scaled_data.loc[:,f_support].columns.tolist()\n",
    "    return f_feature\n"
   ]
  },
  {
   "cell_type": "code",
   "execution_count": null,
   "metadata": {},
   "outputs": [],
   "source": [
    "# Write a function, ols_backward_elimination() that takes X_train and y_train (scaled) as input \n",
    "# and returns selected features based on the ols backwards elimination method."
   ]
  },
  {
   "cell_type": "code",
   "execution_count": 12,
   "metadata": {},
   "outputs": [],
   "source": [
    "import statsmodels.api as sm\n",
    "def ols_backward_elimination(X_train, y_train):\n",
    "    ols_model = sm.OLS(y_train, X_train)\n",
    "    fit = ols_model.fit()\n",
    "    cols = list(X_train.columns)\n",
    "    pmax = 1\n",
    "    while (len(cols)>0):\n",
    "        p= []\n",
    "        X_1 = X_train[cols]\n",
    "        X_1 = sm.add_constant(X_1)\n",
    "        model = sm.OLS(y_train,X_1).fit()\n",
    "        p = pd.Series(model.pvalues.values[1:],index = cols)\n",
    "        pmax = max(p)\n",
    "        feature_with_p_max = p.idxmax()\n",
    "        if(pmax>0.05):\n",
    "            cols.remove(feature_with_p_max)\n",
    "        else:\n",
    "            break\n",
    "\n",
    "    selected_features_BE = cols\n",
    "    return selected_features_BE"
   ]
  },
  {
   "cell_type": "code",
   "execution_count": null,
   "metadata": {},
   "outputs": [],
   "source": [
    "# Write a function, lasso_cv_coef() that takes X_train and y_train as input and returns the coefficients \n",
    "# for each feature, along with a plot of the features and their weights."
   ]
  },
  {
   "cell_type": "code",
   "execution_count": null,
   "metadata": {},
   "outputs": [],
   "source": [
    "from sklearn.linear_model import LassoCV\n",
    "import matplotlib\n",
    "\n",
    "def lasso_cv_coef(X_train, y_train):\n",
    "    reg = LassoCV()\n",
    "    reg.fit(X_train,y_train)\n",
    "    coef = pd.Series(reg.coef_, index = X_train.columns)\n",
    "    imp_coef = coef.sort_values()\n",
    "    matplotlib.rcParams['figure.figsize'] = (4.0, 5.0)\n",
    "    imp_coef.plot(kind ='barh')\n",
    "    plt.title(\"Feature importance using Lasso Model\")\n",
    "    return imp_coef\n"
   ]
  },
  {
   "cell_type": "code",
   "execution_count": null,
   "metadata": {},
   "outputs": [],
   "source": [
    "# Write 3 functions, the first computes the number of optimum features (n) using rfe,\n",
    "# the second takes n as input and returns the top n features, \n",
    "# and the third takes the list of the top n features as input \n",
    "# and returns a new X_train and X_test dataframe with those top features , recursive_feature_elimination() \n",
    "# that computes the optimum number of features (n) and returns the top n features."
   ]
  },
  {
   "cell_type": "code",
   "execution_count": null,
   "metadata": {},
   "outputs": [],
   "source": [
    "from sklearn.linear_model import LinearRegression\n",
    "from sklearn.feature_selection import RFE\n",
    "\n"
   ]
  },
  {
   "cell_type": "code",
   "execution_count": null,
   "metadata": {},
   "outputs": [],
   "source": [
    "# Write 3 functions, the first computes the number of optimum features (n) using rfe\n",
    "\n",
    "def num_optimal_features(X_train, y_train, X_test, y_test):\n",
    "    '''discover the optimal number of features, n, using our scaled x and y dataframes, recursive feature\n",
    "    elimination and linear regression (to test the performance with each number of features).\n",
    "    We will use the output of this function (the number of features) as input to the next function\n",
    "    optimal_features, which will then run recursive feature elimination to find the n best features\n",
    "    '''\n",
    "    features_range = range(1, len(X.columns)+1)\n",
    "    # len(features_range)\n",
    "\n",
    "    # set \"high score\" to be the lowest possible score\n",
    "    high_score = 0\n",
    "\n",
    "    # variables to store the feature list and number of features\n",
    "    number_of_features = 0\n",
    "    # score_list = []\n",
    "\n",
    "    # write the problem without a loop, but instead with all features available,\n",
    "    # so feature count = len(X_train_scaled.columns)\n",
    "    for n in features_range:\n",
    "        model = LinearRegression()\n",
    "        train_rfe = RFE(model, n).fit_transform(X, y)\n",
    "        model.fit(train_rfe, y)\n",
    "        score = model.score(train_rfe, y)\n",
    "        # score_list.append(score)\n",
    "        if(score > high_score):\n",
    "            high_score = score\n",
    "            number_of_features = n\n",
    "\n",
    "    return number_of_features, score\n"
   ]
  },
  {
   "cell_type": "code",
   "execution_count": null,
   "metadata": {},
   "outputs": [],
   "source": [
    "# the second takes n as input and returns the top n features, \n",
    "\n",
    "\n",
    "def optimal_features(n):\n",
    "    '''Taking the output of optimal_number_of_features, as n, and use that value to \n",
    "    run recursive feature elimination to find the n best features'''\n",
    "    cols = list(X_train.columns)\n",
    "    model = LinearRegression()\n",
    "    \n",
    "    #Initializing RFE model\n",
    "    rfe = RFE(model, number_of_features)\n",
    "\n",
    "    #Transforming data using RFE\n",
    "    train_rfe = rfe.fit_transform(X_train,y_train)\n",
    "    test_rfe = rfe.transform(X_test)\n",
    "    \n",
    "    #Fitting the data to model\n",
    "    model.fit(train_rfe, y_train)\n",
    "    temp = pd.Series(rfe.support_,index = cols)\n",
    "    selected_features_rfe = temp[temp==True].index\n",
    "    \n",
    "    X_train_rfe = pd.DataFrame(train_rfe, columns=selected_features_rfe)\n",
    "    X_test_rfe = pd.DataFrame(test_rfe, columns=selected_features_rfe)\n",
    "    \n",
    "    return selected_features_rfe, X_train_rfe, X_test_rfe"
   ]
  },
  {
   "cell_type": "code",
   "execution_count": 5,
   "metadata": {},
   "outputs": [],
   "source": [
    "# and the third takes the list of the top n features as input\n",
    "# and returns a new X_train and X_test dataframe with those top features\n",
    "\n",
    "def n_to_X_train_and_test(features):\n",
    "    new_X_train = X_train_scaled[features]\n",
    "    new_X_test = X_test_scaled[features]\n",
    "    return new_X_train, new_X_test"
   ]
  },
  {
   "cell_type": "code",
   "execution_count": 6,
   "metadata": {},
   "outputs": [],
   "source": [
    "# Recursive_feature_elimination() that computes the optimum number of features (n) and returns the top n features.\n",
    "\n",
    "def recursive_feature_elimination(X_train, y_train, X_test, y_test):\n",
    "    return optimal_features(num_optimal_features(X_train, y_train, X_test, y_test))"
   ]
  },
  {
   "cell_type": "code",
   "execution_count": null,
   "metadata": {},
   "outputs": [],
   "source": []
  }
 ],
 "metadata": {
  "kernelspec": {
   "display_name": "Python 3",
   "language": "python",
   "name": "python3"
  },
  "language_info": {
   "codemirror_mode": {
    "name": "ipython",
    "version": 3
   },
   "file_extension": ".py",
   "mimetype": "text/x-python",
   "name": "python",
   "nbconvert_exporter": "python",
   "pygments_lexer": "ipython3",
   "version": "3.7.3"
  }
 },
 "nbformat": 4,
 "nbformat_minor": 2
}
