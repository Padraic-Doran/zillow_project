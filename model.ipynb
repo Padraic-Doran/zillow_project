{
 "cells": [
  {
   "cell_type": "code",
   "execution_count": null,
   "metadata": {},
   "outputs": [],
   "source": [
    "import numpy as np\n",
    "import pandas as pd\n",
    "import seaborn as sns\n",
    "\n",
    "from math import sqrt\n",
    "from sklearn.metrics import mean_squared_error, r2_score, explained_variance_score\n",
    "from sklearn.linear_model import LinearRegression\n",
    "\n",
    "def compute_baseline(y):\n",
    "    return np.array([y.mean()]*len(y))\n",
    "\n",
    "def linear_model(X_train, y_train, df):\n",
    "    lm=LinearRegression()\n",
    "    lm.fit(X_train,y_train)\n",
    "    lm_predictions=lm.predict(X_train)\n",
    "    df['lm']=lm_predictions\n",
    "    return df\n",
    "\n",
    "def evaluate(actual, model):\n",
    "    MSE = mean_squared_error(actual, model)\n",
    "    SSE = MSE*len(actual)\n",
    "    RMSE = sqrt(MSE)\n",
    "    r2 = r2_score(actual, model)\n",
    "    return MSE, SSE, RMSE, r2 \n",
    "    \n",
    "def plot_linear_model(actuals, lm, baseline):\n",
    "    plot = pd.DataFrame({'actual': actuals,\n",
    "                'linear model': lm,\n",
    "                'baseline': baseline.flatten()})\\\n",
    "    .melt(id_vars=['actual'], var_name='model', value_name='prediction')\\\n",
    "    .pipe((sns.relplot, 'data'), x='actual', y='prediction', hue='model')\n",
    "    return plot\n",
    "\n",
    "def plot_regression(x,y):\n",
    "    res = sm.OLS(y, x).fit()\n",
    "    prstd, iv_l, iv_u = wls_prediction_std(res)\n",
    "\n",
    "    fig, ax = plt.subplots(figsize=(8,6))\n",
    "\n",
    "    ax.plot(x, y, 'o', label=\"data\")\n",
    "    #ax.plot(x, y, 'b-', label=\"True\")\n",
    "    ax.plot(x, res.fittedvalues, 'r--.', label=\"OLS\")\n",
    "    ax.plot(x, iv_u, 'r--')\n",
    "    ax.plot(x, iv_l, 'r--')\n",
    "    ax.legend(loc='best');\n",
    "    plt.show()"
   ]
  }
 ],
 "metadata": {
  "kernelspec": {
   "display_name": "Python 3",
   "language": "python",
   "name": "python3"
  },
  "language_info": {
   "codemirror_mode": {
    "name": "ipython",
    "version": 3
   },
   "file_extension": ".py",
   "mimetype": "text/x-python",
   "name": "python",
   "nbconvert_exporter": "python",
   "pygments_lexer": "ipython3",
   "version": "3.7.3"
  }
 },
 "nbformat": 4,
 "nbformat_minor": 2
}
